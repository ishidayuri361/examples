{
  "nbformat": 4,
  "nbformat_minor": 0,
  "metadata": {
    "colab": {
      "name": "20220716_PyArabic.ipynb",
      "provenance": [],
      "collapsed_sections": [],
      "authorship_tag": "ABX9TyNT7Yy3OduItmqwHTcdmj1l",
      "include_colab_link": true
    },
    "kernelspec": {
      "name": "python3",
      "display_name": "Python 3"
    },
    "language_info": {
      "name": "python"
    }
  },
  "cells": [
    {
      "cell_type": "markdown",
      "metadata": {
        "id": "view-in-github",
        "colab_type": "text"
      },
      "source": [
        "<a href=\"https://colab.research.google.com/github/ishidayuri361/examples/blob/main/PyArabic_ToJpn.ipynb\" target=\"_parent\"><img src=\"https://colab.research.google.com/assets/colab-badge.svg\" alt=\"Open In Colab\"/></a>"
      ]
    },
    {
      "cell_type": "markdown",
      "source": [
        "1. [PyArabic](https://pyarabic.readthedocs.io/ar/latest/index.html)のインストール"
      ],
      "metadata": {
        "id": "Xa1KsiYFpjxg"
      }
    },
    {
      "cell_type": "code",
      "execution_count": null,
      "metadata": {
        "colab": {
          "base_uri": "https://localhost:8080/"
        },
        "id": "jRlJKtYeyvLc",
        "outputId": "aeaab7bb-b66c-48b5-a94d-fdd88abb3e61"
      },
      "outputs": [
        {
          "output_type": "stream",
          "name": "stdout",
          "text": [
            "Looking in indexes: https://pypi.org/simple, https://us-python.pkg.dev/colab-wheels/public/simple/\n",
            "Collecting pyarabic\n",
            "  Downloading PyArabic-0.6.15-py3-none-any.whl (126 kB)\n",
            "\u001b[K     |████████████████████████████████| 126 kB 8.6 MB/s \n",
            "\u001b[?25hRequirement already satisfied: six>=1.14.0 in /usr/local/lib/python3.7/dist-packages (from pyarabic) (1.15.0)\n",
            "Installing collected packages: pyarabic\n",
            "Successfully installed pyarabic-0.6.15\n"
          ]
        }
      ],
      "source": [
        "!pip install pyarabic"
      ]
    },
    {
      "cell_type": "markdown",
      "source": [
        "2. ライブラリの設定"
      ],
      "metadata": {
        "id": "pCXWtupup9Zk"
      }
    },
    {
      "cell_type": "code",
      "source": [
        "import pyarabic.araby as araby\n",
        "import pyarabic.number as number"
      ],
      "metadata": {
        "id": "WzRBvMjLzMrp"
      },
      "execution_count": null,
      "outputs": []
    },
    {
      "cell_type": "markdown",
      "source": [
        "3. アラビア語テキストの入力例）text = u'アラビア語テキスト'"
      ],
      "metadata": {
        "id": "3pR2mBy5qB8s"
      }
    },
    {
      "cell_type": "code",
      "source": [
        "text = u'الإسلام ديننا'"
      ],
      "metadata": {
        "id": "udpNSYfozVNp"
      },
      "execution_count": null,
      "outputs": []
    },
    {
      "cell_type": "markdown",
      "source": [
        "4. シャッダ（促音便、ｗのような記号）を除くすべてのハラカート（母音記号）の除去\n",
        "\n",
        "*実行前　الْعَرَبِيّةُ\n",
        "\n",
        "*実行後　العربيّة\n",
        "\n"
      ],
      "metadata": {
        "id": "pbpcMbkLq0sn"
      }
    },
    {
      "cell_type": "code",
      "source": [
        "from pyarabic.araby import strip_harakat\n",
        "text = u'الْعَرَبِيّةُ'\n",
        "strip_harakat(text)"
      ],
      "metadata": {
        "colab": {
          "base_uri": "https://localhost:8080/",
          "height": 36
        },
        "id": "hWIT4ERsx1_z",
        "outputId": "832fe974-f432-4813-f21f-72909f962d57"
      },
      "execution_count": null,
      "outputs": [
        {
          "output_type": "execute_result",
          "data": {
            "text/plain": [
              "'العربيّة'"
            ],
            "application/vnd.google.colaboratory.intrinsic+json": {
              "type": "string"
            }
          },
          "metadata": {},
          "execution_count": 3
        }
      ]
    },
    {
      "cell_type": "markdown",
      "source": [
        "5. シャッダ（促音便、ｗのような記号）を含むすべてのハラカート（母音記号）の除去\n",
        "\n",
        "*実行前　الْعَرَبِيّةُ\n",
        "\n",
        "*実行後　العربية\n",
        "\n"
      ],
      "metadata": {
        "id": "9Jj3N7dLrR78"
      }
    },
    {
      "cell_type": "code",
      "source": [
        "from pyarabic.araby import strip_tashkeel\n",
        "text = u\"الْعَرَبِيّةُ\"\n",
        "strip_tashkeel(text)"
      ],
      "metadata": {
        "colab": {
          "base_uri": "https://localhost:8080/",
          "height": 36
        },
        "id": "1Hxok1fXz68m",
        "outputId": "d95ee65a-8582-4c28-e18c-288684b5845a"
      },
      "execution_count": null,
      "outputs": [
        {
          "output_type": "execute_result",
          "data": {
            "text/plain": [
              "'العربية'"
            ],
            "application/vnd.google.colaboratory.intrinsic+json": {
              "type": "string"
            }
          },
          "metadata": {},
          "execution_count": 4
        }
      ]
    },
    {
      "cell_type": "markdown",
      "source": [
        "6. 末尾のハラカート（母音記号）の除去\n",
        "\n",
        "*実行前　الْعَرَبِيّةُ\n",
        "\n",
        "*実行後　الْعَرَبِيّة\n",
        "\n",
        "\n"
      ],
      "metadata": {
        "id": "xHtKFRC3r197"
      }
    },
    {
      "cell_type": "code",
      "source": [
        "from pyarabic.araby import strip_lastharaka\n",
        "text = u\"الْعَرَبِيّةُ\"\n",
        "strip_lastharaka(text)"
      ],
      "metadata": {
        "colab": {
          "base_uri": "https://localhost:8080/",
          "height": 36
        },
        "id": "bqsi0D6P0FPF",
        "outputId": "bd88bbe4-7828-407c-e55c-542ff9d73a16"
      },
      "execution_count": null,
      "outputs": [
        {
          "output_type": "execute_result",
          "data": {
            "text/plain": [
              "'الْعَرَبِيّة'"
            ],
            "application/vnd.google.colaboratory.intrinsic+json": {
              "type": "string"
            }
          },
          "metadata": {},
          "execution_count": 5
        }
      ]
    },
    {
      "cell_type": "markdown",
      "source": [
        "7. ハラカート（母音記号）などの装飾記号（diacritics）の除去"
      ],
      "metadata": {
        "id": "VcopOzF7uV5S"
      }
    },
    {
      "cell_type": "code",
      "source": [
        "from pyarabic.araby import strip_diacritics\n",
        "text = u\"الرّحمٰن\"\n",
        "strip_diacritics(text)"
      ],
      "metadata": {
        "colab": {
          "base_uri": "https://localhost:8080/",
          "height": 36
        },
        "id": "a2HwpAohg7E3",
        "outputId": "23e36304-7855-4bce-88ab-5c80877352f0"
      },
      "execution_count": null,
      "outputs": [
        {
          "output_type": "execute_result",
          "data": {
            "text/plain": [
              "'الرحمن'"
            ],
            "application/vnd.google.colaboratory.intrinsic+json": {
              "type": "string"
            }
          },
          "metadata": {},
          "execution_count": 3
        }
      ]
    },
    {
      "cell_type": "markdown",
      "source": [
        "8. 【修正有/検証中】タシュキール（発音記号）の削減\n",
        "\n",
        "*   同形異義語を見分ける記号は残る？\n",
        "\n",
        "*実行前　يُتَسََلَّمْنَ\n",
        "\n",
        "*実行後　يُتسلّمن\n"
      ],
      "metadata": {
        "id": "_UBmvNZCxzVs"
      }
    },
    {
      "cell_type": "code",
      "source": [
        "from pyarabic import araby\n",
        "word = u\"يُتَسََلَّمْنَ\"\n",
        "reduced = araby.reduce_tashkeel(word)\n",
        "print(reduced)"
      ],
      "metadata": {
        "colab": {
          "base_uri": "https://localhost:8080/"
        },
        "id": "xJYdzwsrip9m",
        "outputId": "64463de0-ddfe-4d68-aa4f-f4b1e13cda2e"
      },
      "execution_count": null,
      "outputs": [
        {
          "output_type": "stream",
          "name": "stdout",
          "text": [
            "يُتسلّمن\n"
          ]
        }
      ]
    },
    {
      "cell_type": "markdown",
      "source": [
        "9. タトウィール（文字連結線延長）の除去\n",
        "\n",
        "*実行前　العـــــربيّة\n",
        "\n",
        "*実行後　العربيّة\n",
        "\n",
        "\n",
        "\n"
      ],
      "metadata": {
        "id": "LuJea4pi0BPg"
      }
    },
    {
      "cell_type": "code",
      "source": [
        "from pyarabic.araby import strip_tatweel\n",
        "text = u\"العـــــربيّة\"\n",
        "strip_tatweel(text)"
      ],
      "metadata": {
        "colab": {
          "base_uri": "https://localhost:8080/",
          "height": 36
        },
        "id": "VjuKohb705kG",
        "outputId": "7b105408-2fde-4a95-9e0a-a9d65b09ae3d"
      },
      "execution_count": null,
      "outputs": [
        {
          "output_type": "execute_result",
          "data": {
            "text/plain": [
              "'العربيّة'"
            ],
            "application/vnd.google.colaboratory.intrinsic+json": {
              "type": "string"
            }
          },
          "metadata": {},
          "execution_count": 69
        }
      ]
    },
    {
      "cell_type": "markdown",
      "source": [
        "10. シャッダ（促音便）の除去\n",
        "\n",
        "*実行前　العـــــربيّة\n",
        "\n",
        "*実行後　العـــــربية"
      ],
      "metadata": {
        "id": "NVBJtf9O1NSH"
      }
    },
    {
      "cell_type": "code",
      "source": [
        "from pyarabic.araby import strip_shadda\n",
        "text = u\"العـــــربيّة\"\n",
        "strip_shadda(text)"
      ],
      "metadata": {
        "colab": {
          "base_uri": "https://localhost:8080/",
          "height": 36
        },
        "id": "ESrq9SIU1BXj",
        "outputId": "8edea7b8-e3d6-40a1-a07d-f6cfaafb48bc"
      },
      "execution_count": null,
      "outputs": [
        {
          "output_type": "execute_result",
          "data": {
            "text/plain": [
              "'العـــــربية'"
            ],
            "application/vnd.google.colaboratory.intrinsic+json": {
              "type": "string"
            }
          },
          "metadata": {},
          "execution_count": 71
        }
      ]
    },
    {
      "cell_type": "markdown",
      "source": [
        "11. 【検証中】合字（ligature）の正規化（nomarization）\n",
        "\n",
        "*   変化なし。表示できない？\n",
        "\n",
        "*実行前　يء\n",
        "\n",
        "*実行後　ئ\n",
        "\n"
      ],
      "metadata": {
        "id": "4c2cVd-r2Ty-"
      }
    },
    {
      "cell_type": "code",
      "source": [
        "from pyarabic.araby import normalize_ligature\n",
        "text = u\"لانها لالء الاسلام\"\n",
        "normalize_ligature(text)"
      ],
      "metadata": {
        "colab": {
          "base_uri": "https://localhost:8080/",
          "height": 36
        },
        "id": "ylBuB9Ew1G4F",
        "outputId": "efd54fd4-076e-47b4-b0d2-de99ea92e0a9"
      },
      "execution_count": null,
      "outputs": [
        {
          "output_type": "execute_result",
          "data": {
            "text/plain": [
              "'لانها لالء الاسلام'"
            ],
            "application/vnd.google.colaboratory.intrinsic+json": {
              "type": "string"
            }
          },
          "metadata": {},
          "execution_count": 73
        }
      ]
    },
    {
      "cell_type": "markdown",
      "source": [
        "12. ハムザ（声門閉鎖音を表すアラビア文字、ء）の正規化（nomarization）\n",
        "\n",
        "*実行前　ؤ\n",
        "\n",
        "*実行後　ء"
      ],
      "metadata": {
        "id": "Uclhtyuh3FC3"
      }
    },
    {
      "cell_type": "code",
      "source": [
        "import pyarabic.araby as araby\n",
        "text1 = u\"جاء سؤال الأئمة عن الإسلام آجلا\"\n",
        "araby.normalize_hamza(text1)"
      ],
      "metadata": {
        "colab": {
          "base_uri": "https://localhost:8080/",
          "height": 36
        },
        "id": "80h8LKPc1T83",
        "outputId": "23937559-86d6-4430-f7c6-871d81eadd08"
      },
      "execution_count": null,
      "outputs": [
        {
          "output_type": "execute_result",
          "data": {
            "text/plain": [
              "'جاء سءال الءءمة عن الءسلام ءءجلا'"
            ],
            "application/vnd.google.colaboratory.intrinsic+json": {
              "type": "string"
            }
          },
          "metadata": {},
          "execution_count": 13
        }
      ]
    },
    {
      "cell_type": "markdown",
      "source": [
        "13. ハムザ（声門閉鎖音を表すアラビア文字、ء）の自動変換（method=\"tasheel\"）\n",
        "\n",
        "*  アリフ（aの音、ا）の上にあるハムザはアリフ、ヤー（yの音、ي）の上にあるハムザはヤーに変換する。\n",
        "\n",
        "*実行前　ؤ\n",
        "\n",
        "*実行後　و\n",
        "\n",
        "\n",
        "\n",
        "\n"
      ],
      "metadata": {
        "id": "x6nG0cTu-ZZD"
      }
    },
    {
      "cell_type": "code",
      "source": [
        "import pyarabic.araby as araby\n",
        "text1 = u\"جاء سؤال الأئمة عن الإسلام آجلا\"\n",
        "araby.normalize_hamza(text1, method=\"tasheel\")"
      ],
      "metadata": {
        "colab": {
          "base_uri": "https://localhost:8080/",
          "height": 36
        },
        "id": "xzbQEHQ71aeU",
        "outputId": "cd108e0d-e89e-4b26-9691-f2b38c88b842"
      },
      "execution_count": null,
      "outputs": [
        {
          "output_type": "execute_result",
          "data": {
            "text/plain": [
              "'جاء سوال الايمة عن الاسلام اجلا'"
            ],
            "application/vnd.google.colaboratory.intrinsic+json": {
              "type": "string"
            }
          },
          "metadata": {},
          "execution_count": 4
        }
      ]
    },
    {
      "cell_type": "markdown",
      "source": [
        "14. ハラカート（母音記号）と文字の分離\n",
        "\n",
        "*実行前　الْعَرَبِيّةُ\n",
        "\n",
        "*実行後　'العربيّة', 'ـََِْْـُ'\n",
        "\n"
      ],
      "metadata": {
        "id": "XxnXxcIrAuDh"
      }
    },
    {
      "cell_type": "code",
      "source": [
        "from pyarabic import araby\n",
        "text = u'الْعَرَبِيّةُ'\n",
        "araby.separate(text)"
      ],
      "metadata": {
        "colab": {
          "base_uri": "https://localhost:8080/"
        },
        "id": "cba8rRl31d9h",
        "outputId": "dab05860-0219-4202-f7b2-5615db3dc551"
      },
      "execution_count": null,
      "outputs": [
        {
          "output_type": "execute_result",
          "data": {
            "text/plain": [
              "('العربيّة', 'ـََِْْـُ')"
            ]
          },
          "metadata": {},
          "execution_count": 12
        }
      ]
    },
    {
      "cell_type": "markdown",
      "source": [
        "14-1. 【修正有】ハラカート（母音記号）と文字を分離し、文字だけ表示"
      ],
      "metadata": {
        "id": "GatJ9emABotw"
      }
    },
    {
      "cell_type": "code",
      "source": [
        "letters, marks =araby.separate(text)\n",
        "print(letters)"
      ],
      "metadata": {
        "colab": {
          "base_uri": "https://localhost:8080/"
        },
        "id": "dluk2Q2k1iwh",
        "outputId": "358e8adb-80de-4b99-cd06-54bb79a5b453"
      },
      "execution_count": null,
      "outputs": [
        {
          "output_type": "stream",
          "name": "stdout",
          "text": [
            "العربيّة\n"
          ]
        }
      ]
    },
    {
      "cell_type": "markdown",
      "source": [
        "14-2. 【修正有】ハラカート（母音記号）と文字を分離し、ハラカート（母音記号）だけ表示\n",
        "\n",
        "*  出現順にタトウィール（文字連結線延長）やハラカート（母音記号）の種類を表示"
      ],
      "metadata": {
        "id": "zO_aRzJ9B04Q"
      }
    },
    {
      "cell_type": "code",
      "source": [
        "print(marks)\n",
        "for m in marks:\n",
        "    print(araby.name(m))"
      ],
      "metadata": {
        "colab": {
          "base_uri": "https://localhost:8080/"
        },
        "id": "HCPCM9kd1nEU",
        "outputId": "2afe3cee-80db-49e4-c47b-de4726e28d3f"
      },
      "execution_count": null,
      "outputs": [
        {
          "output_type": "stream",
          "name": "stdout",
          "text": [
            "ـََِْْـُ\n",
            "تطويل\n",
            "سكون\n",
            "فتحة\n",
            "فتحة\n",
            "كسرة\n",
            "سكون\n",
            "تطويل\n",
            "ضمة\n"
          ]
        }
      ]
    },
    {
      "cell_type": "markdown",
      "source": [
        "15. 【修正有】ハラカート（母音記号）と文字の結合\n",
        "\n",
        "*実行前　\"العربية\"+'\\u064e\\u0652\\u064e\\u064e\\u064e\\u064e\\u064f'\n",
        "\n",
        "*実行後　اَلْعَرَبَيَةُ\n"
      ],
      "metadata": {
        "id": "DXNM0OYnDkoQ"
      }
    },
    {
      "cell_type": "code",
      "source": [
        "from pyarabic import araby\n",
        "letters = u\"العربية\"\n",
        "marks   = u'\\u064e\\u0652\\u064e\\u064e\\u064e\\u064e\\u064f'\n",
        "word = araby.joint(letters, marks)\n",
        "print(word)"
      ],
      "metadata": {
        "colab": {
          "base_uri": "https://localhost:8080/"
        },
        "id": "MB7zyY9_116z",
        "outputId": "64d85e17-3baa-4993-b890-90e26d1f6e05"
      },
      "execution_count": null,
      "outputs": [
        {
          "output_type": "stream",
          "name": "stdout",
          "text": [
            "اَلْعَرَبَيَةُ\n"
          ]
        }
      ]
    },
    {
      "cell_type": "markdown",
      "source": [
        "16. 【修正有】ひと文字（アラビア語のアルファベット）ごとに分割し、読み方を表示\n",
        "\n",
        "*実行前　ا\n",
        "\n",
        "*実行後　ألف（アラビア語表記）、ARABIC LETTER ALEF\n",
        "\n"
      ],
      "metadata": {
        "id": "wL-spjqglle_"
      }
    },
    {
      "cell_type": "code",
      "source": [
        "from pyarabic import araby\n",
        "\n",
        "words_list = araby.spellit('العربية')\n",
        "print(words_list)\n",
        "print(\"-------------------------------\")\n",
        "\n",
        "words_list_unicode = araby.spellit('العربية', lang=\"unicode\")\n",
        "print(words_list_unicode[:154])  # printed some only. For display purposes."
      ],
      "metadata": {
        "colab": {
          "base_uri": "https://localhost:8080/"
        },
        "id": "OtuGOs7P2EUd",
        "outputId": "63a805a6-836a-4307-8584-e5577f83fdf3"
      },
      "execution_count": null,
      "outputs": [
        {
          "output_type": "stream",
          "name": "stdout",
          "text": [
            "ألف, لام, عين, راء, باء, ياء, تاء مربوطة\n",
            "-------------------------------\n",
            "ARABIC LETTER ALEF, ARABIC LETTER LAM, ARABIC LETTER AIN, ARABIC LETTER REH, ARABIC LETTER BEH, ARABIC LETTER YEH, ARABIC LETTER TEH MARBUTA\n"
          ]
        }
      ]
    },
    {
      "cell_type": "markdown",
      "source": [
        "17. 単語の類似性\n",
        "\n",
        "*   母音記号などが異なっても、単語の綴りが同じであればTrue\n",
        "\n",
        "*実行前　\"ضَربٌ\"と\"ضَرْبٌ\"\n",
        "\n",
        "*実行後　True\n"
      ],
      "metadata": {
        "id": "UnmNLZAln5ue"
      }
    },
    {
      "cell_type": "code",
      "source": [
        "from pyarabic import araby\n",
        "word1 = u\"ضَربٌ\"\n",
        "word2 = u\"ضَرْبٌ\"\n",
        "araby.vocalizedlike(word1, word2)"
      ],
      "metadata": {
        "colab": {
          "base_uri": "https://localhost:8080/"
        },
        "id": "6qWWCPCn2b5c",
        "outputId": "ef8ba8cf-f45b-4a95-a1d5-3085d25941e7"
      },
      "execution_count": null,
      "outputs": [
        {
          "output_type": "execute_result",
          "data": {
            "text/plain": [
              "True"
            ]
          },
          "metadata": {},
          "execution_count": 23
        }
      ]
    },
    {
      "cell_type": "markdown",
      "source": [
        "18. 【検証中】単語の語形の類似性\n",
        "\n",
        "*   同じ語形の単語同士であればTrue\n",
        "\n",
        "*実行前　\"ضارب\"と\"فَاعِل\"\n",
        "\n",
        "*実行後　True"
      ],
      "metadata": {
        "id": "QF19MHUUpEq2"
      }
    },
    {
      "cell_type": "code",
      "source": [
        "from pyarabic import araby\n",
        "word1 = u\"ضارب\"\n",
        "wazn =  u\"فَاعِل\"\n",
        "araby.waznlike(word1, wazn)"
      ],
      "metadata": {
        "colab": {
          "base_uri": "https://localhost:8080/"
        },
        "id": "nrYBUB7P2j2O",
        "outputId": "228a3e90-a49f-48c4-c8be-6d5385b9d3d7"
      },
      "execution_count": null,
      "outputs": [
        {
          "output_type": "execute_result",
          "data": {
            "text/plain": [
              "True"
            ]
          },
          "metadata": {},
          "execution_count": 16
        }
      ]
    },
    {
      "cell_type": "markdown",
      "source": [
        "19. シャッダ（促音便）の類似性\n",
        "\n",
        "*   同じ綴りの単語でシャッダ（促音便）が同じ場所にあれば、母音記号にかかわらずTrue\n",
        "\n",
        "*実行前　\"ردّ\"と\"ردَّ\"\n",
        "\n",
        "*実行後　True"
      ],
      "metadata": {
        "id": "sNJ9rTAnqKg1"
      }
    },
    {
      "cell_type": "code",
      "source": [
        "from pyarabic import araby\n",
        "word1 = u\"ردّ\"\n",
        "word2=u\"ردَّ\"\n",
        "araby.shaddalike(word1, word2)"
      ],
      "metadata": {
        "colab": {
          "base_uri": "https://localhost:8080/"
        },
        "id": "_2qVlGmE2qg8",
        "outputId": "9531f79c-d19f-4a0c-d201-d0ac3e91d84e"
      },
      "execution_count": null,
      "outputs": [
        {
          "output_type": "execute_result",
          "data": {
            "text/plain": [
              "True"
            ]
          },
          "metadata": {},
          "execution_count": 6
        }
      ]
    },
    {
      "cell_type": "markdown",
      "source": [
        "20. 【検証中】ハラカート（母音記号）の類似性\n",
        "\n",
        "20-1. 【検証中】同じ綴りの単語でハラカート（母音記号）が部分一致していればTrue？\n",
        "\n",
        "*実行前　\"ضَربٌ\"と\"ضَرْبٌ\"\n",
        "\n",
        "*実行後　True\n",
        "\n"
      ],
      "metadata": {
        "id": "3CQWs4ftJEMO"
      }
    },
    {
      "cell_type": "code",
      "source": [
        "from pyarabic import araby\n",
        "word2 = u\"العربيّة\"\n",
        "word1 = u\"العربية\"\n",
        "araby.vocalizedlike(word2, word1)"
      ],
      "metadata": {
        "colab": {
          "base_uri": "https://localhost:8080/"
        },
        "id": "TUWhTObx2x2L",
        "outputId": "83b8ab8b-8b61-44fa-bb15-aa702721ae69"
      },
      "execution_count": null,
      "outputs": [
        {
          "output_type": "execute_result",
          "data": {
            "text/plain": [
              "True"
            ]
          },
          "metadata": {},
          "execution_count": 32
        }
      ]
    },
    {
      "cell_type": "markdown",
      "source": [
        "20-2. 【検証中】同じ綴りの単語でハラカート（母音記号）が一致しいない数に応じて負の数が増える？\n",
        "\n",
        "*実行前　\"ضَربٌ\"と\"ضَرْبٌ\"\n",
        "\n",
        "*実行後　-1"
      ],
      "metadata": {
        "id": "xP02FcR8K9u-"
      }
    },
    {
      "cell_type": "code",
      "source": [
        "word1 = u\"ضَربٌ\"\n",
        "word2 = u\"ضَرْبٍ\"\n",
        "araby.vocalized_similarity(word1, word2)"
      ],
      "metadata": {
        "colab": {
          "base_uri": "https://localhost:8080/"
        },
        "id": "JnJhvPd625DE",
        "outputId": "605bd05e-4bf4-4997-8dd2-fd3d0e0fca83"
      },
      "execution_count": null,
      "outputs": [
        {
          "output_type": "execute_result",
          "data": {
            "text/plain": [
              "-1"
            ]
          },
          "metadata": {},
          "execution_count": 38
        }
      ]
    },
    {
      "cell_type": "markdown",
      "source": [
        "21. 文章を単語へ分割\n",
        "\n",
        "*実行前　\"العربية لغة جميلة.\"\n",
        "\n",
        "*実行後　العربية\n",
        "/لغة/\n",
        "جميلة/\n",
        "./\n",
        "\n"
      ],
      "metadata": {
        "id": "Lq4l51Rgm3Bx"
      }
    },
    {
      "cell_type": "code",
      "source": [
        "from pyarabic import araby\n",
        "text = u\"العربية لغة جميلة.\"\n",
        "tokens = araby.tokenize(text)\n",
        "print(u\"\\n\".join(tokens))"
      ],
      "metadata": {
        "colab": {
          "base_uri": "https://localhost:8080/"
        },
        "id": "Yr2pqsG42_M9",
        "outputId": "c4cfcd7a-7253-441c-8a33-6e94ebfa8df8"
      },
      "execution_count": null,
      "outputs": [
        {
          "output_type": "stream",
          "name": "stdout",
          "text": [
            "العربية\n",
            "لغة\n",
            "جميلة\n",
            ".\n"
          ]
        }
      ]
    },
    {
      "cell_type": "markdown",
      "source": [
        "21-1. 【修正有】文章を単語へ分割し、非アラビア語の除去\n",
        "\n",
        "*実行前　\"اسمٌ الكلبِ في اللغةِ الإنجليزية Dog واسمُ الحمارِ Donky\"\n",
        "\n",
        "*実行後　واسمُ\n",
        "/الحمارِ/\n",
        "اسمٌ/\n",
        "الكلبِ/\n",
        "في/\n",
        "اللغةِ/\n",
        "الإنجليزية/"
      ],
      "metadata": {
        "id": "a5ppIFz7oA9I"
      }
    },
    {
      "cell_type": "code",
      "source": [
        "from pyarabic.araby import tokenize, is_arabicrange\n",
        "text = u\"ِاسمٌ الكلبِ في اللغةِ الإنجليزية Dog واسمُ الحمارِ Donky\"\n",
        "tokenize(text, conditions=is_arabicrange)"
      ],
      "metadata": {
        "colab": {
          "base_uri": "https://localhost:8080/"
        },
        "id": "uVwVWvJr3H_0",
        "outputId": "c4812524-1b80-4630-ebc0-44b1af10f733"
      },
      "execution_count": null,
      "outputs": [
        {
          "output_type": "execute_result",
          "data": {
            "text/plain": [
              "['ِاسمٌ', 'الكلبِ', 'في', 'اللغةِ', 'الإنجليزية', 'واسمُ', 'الحمارِ']"
            ]
          },
          "metadata": {},
          "execution_count": 3
        }
      ]
    },
    {
      "cell_type": "markdown",
      "source": [
        "21-2. 【修正有/検証中】文章を単語へ分割し、タシュキール（発音記号）の除去\n",
        "\n",
        "*   非アラビア語の除去と同時に行わないと、タシュキール（発音記号）が残る？\n",
        "\n",
        "*実行前　\"اسمٌ الكلبِ في اللغةِ الإنجليزية  واسمُ الحمارِ\"\n",
        "\n",
        "*実行後　'اسم', 'الكلب', 'في', 'اللغة', 'الإنجليزية', 'واسم', 'الحمار'\n",
        "\n"
      ],
      "metadata": {
        "id": "_mnEGx22oxyA"
      }
    },
    {
      "cell_type": "code",
      "source": [
        "from pyarabic.araby import tokenize, strip_tashkeel\n",
        "text = u\"ِاسمٌ الكلبِ في اللغةِ الإنجليزية واسمُ الحمارِ\"\n",
        "tokenize(text, strip_tashkeel)"
      ],
      "metadata": {
        "colab": {
          "base_uri": "https://localhost:8080/"
        },
        "id": "8VFZe6GgqLZ_",
        "outputId": "e5649beb-92ce-4843-9a33-af7e27421fb2"
      },
      "execution_count": null,
      "outputs": [
        {
          "output_type": "execute_result",
          "data": {
            "text/plain": [
              "['ِاسمٌ', 'الكلبِ', 'في', 'اللغةِ', 'الإنجليزية', 'واسمُ', 'الحمارِ']"
            ]
          },
          "metadata": {},
          "execution_count": 8
        }
      ]
    },
    {
      "cell_type": "markdown",
      "source": [
        "21-3. 文章を単語へ分割し、非アラビア語とタシュキール（発音記号）の除去\n",
        "\n",
        "*実行前　\"اسمٌ الكلبِ في اللغةِ الإنجليزية Dog واسمُ الحمارِ Donky\"\n",
        "\n",
        "*実行後　'اسم', 'الكلب', 'في', 'اللغة', 'الإنجليزية', 'واسم', 'الحمار'\n"
      ],
      "metadata": {
        "id": "6Yek2tmKrW1-"
      }
    },
    {
      "cell_type": "code",
      "source": [
        "from pyarabic.araby import tokenize, is_arabicrange, strip_tashkeel\n",
        "text = u\"ِاسمٌ الكلبِ في اللغةِ الإنجليزية Dog واسمُ الحمارِ Donky\"\n",
        "tokenize(text, conditions=is_arabicrange, morphs=strip_tashkeel)"
      ],
      "metadata": {
        "colab": {
          "base_uri": "https://localhost:8080/"
        },
        "id": "TIl6L6yArCsP",
        "outputId": "30e7d450-e336-4577-b4f7-0f255ffedb46"
      },
      "execution_count": null,
      "outputs": [
        {
          "output_type": "execute_result",
          "data": {
            "text/plain": [
              "['اسم', 'الكلب', 'في', 'اللغة', 'الإنجليزية', 'واسم', 'الحمار']"
            ]
          },
          "metadata": {},
          "execution_count": 6
        }
      ]
    },
    {
      "cell_type": "markdown",
      "source": [
        "22. 条件に合う単語の抽出\n",
        "\n",
        "*   条件を'ال'で始まる単語にした場合　conditions=lambda x: x.startswith(u'ال')\n",
        "\n",
        "*実行前　\"طلع البدر علينا من ثنيات الوداع\"\n",
        "\n",
        "*実行後　'البدر', 'الوداع'\n",
        "\n"
      ],
      "metadata": {
        "id": "UDjNkG0g5f4v"
      }
    },
    {
      "cell_type": "code",
      "source": [
        "from pyarabic.araby import tokenize\n",
        "text = u\"طلع البدر علينا من ثنيات الوداع\"\n",
        "tokenize(text, conditions=lambda x: x.startswith(u'ال'))"
      ],
      "metadata": {
        "colab": {
          "base_uri": "https://localhost:8080/"
        },
        "id": "0GgjvUTO3M6U",
        "outputId": "862a019d-a0ba-425e-a235-82dee777c678"
      },
      "execution_count": null,
      "outputs": [
        {
          "output_type": "execute_result",
          "data": {
            "text/plain": [
              "['البدر', 'الوداع']"
            ]
          },
          "metadata": {},
          "execution_count": 10
        }
      ]
    },
    {
      "cell_type": "markdown",
      "source": [
        "23. 【検証中】文章を一文に分割\n",
        "\n",
        "*   読点や接続詞で判断？\n",
        "\n"
      ],
      "metadata": {
        "id": "gwNov_It7gMH"
      }
    },
    {
      "cell_type": "code",
      "source": [
        "from pyarabic import araby\n",
        "text = u\"وتابع: اللي كتب ستو أنا مستحيل يكتب المفردات الجنوبية، فيه اقتباس ومحاكاة لموالي، وغير واللي فتح باب خرابه واجب عليه رده، وكتبها اللي فتح باب الوجع واجب عليه رده، مردفا: لو قارنت بين أغانيه، وهذه الأغنية تجد لها خصوصية الجنوب.\"\n",
        "sentences  = araby.sentence_tokenize(text)\n",
        "print(sentences)"
      ],
      "metadata": {
        "colab": {
          "base_uri": "https://localhost:8080/"
        },
        "id": "PNMC86d_3T2s",
        "outputId": "7dab46ae-8fad-4319-9896-96a72e2f2f34"
      },
      "execution_count": null,
      "outputs": [
        {
          "output_type": "stream",
          "name": "stdout",
          "text": [
            "['وتابع:', 'اللي كتب ستو أنا مستحيل يكتب المفردات الجنوبية،', 'فيه اقتباس ومحاكاة لموالي،', 'وغير واللي فتح باب خرابه واجب عليه رده،', 'وكتبها اللي فتح باب الوجع واجب عليه رده،', 'مردفا:', 'لو قارنت بين أغانيه،', 'وهذه الأغنية تجد لها خصوصية الجنوب.']\n"
          ]
        }
      ]
    },
    {
      "cell_type": "markdown",
      "source": [
        "24. 【修正有/検証中】文章を単語に分割し、位置を表示\n",
        "\n",
        "*   最初の文字を0とし、空白も含めて番号を振っている？\n",
        "*   コンマが入ると、空白は含めない？\n",
        "*   文末も含めない？\n",
        "*   発音記号も数える？\n"
      ],
      "metadata": {
        "id": "VH7OnlZD8RMe"
      }
    },
    {
      "cell_type": "code",
      "source": [
        "from pyarabic import araby\n",
        "text = \"بِسْمِ اللهِ الرَّحْمنِ الرَّحِيمِ\"\n",
        "tokens = araby.tokenize_with_location(text)\n",
        "print (tokens)"
      ],
      "metadata": {
        "colab": {
          "base_uri": "https://localhost:8080/"
        },
        "id": "qJjbGc-q3gY8",
        "outputId": "be786564-f582-432d-e7ce-712ec9facb97"
      },
      "execution_count": null,
      "outputs": [
        {
          "output_type": "stream",
          "name": "stdout",
          "text": [
            "[{'token': 'بِسْمِ', 'start': 0, 'end': 6}, {'token': 'اللهِ', 'start': 7, 'end': 12}, {'token': 'الرَّحْمنِ', 'start': 13, 'end': 23}, {'token': 'الرَّحِيمِ', 'start': 24, 'end': 34}]\n"
          ]
        }
      ]
    }
  ]
}